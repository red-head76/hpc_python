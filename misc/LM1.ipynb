{
 "cells": [
  {
   "cell_type": "code",
   "execution_count": 1,
   "id": "ca4d5cf5-3184-4cc1-a6aa-9859cedcaba7",
   "metadata": {
    "collapsed": false
   },
   "outputs": [],
   "source": [
    "import numpy as np\n",
    "from scipy.optimize import root\n",
    "import matplotlib.pyplot as plt\n",
    "\n",
    "%matplotlib inline\n"
   ]
  },
  {
   "cell_type": "code",
   "execution_count": 2,
   "id": "e84216a5-f9b0-45e7-a6ab-3ba100d0fde4",
   "metadata": {
    "collapsed": false
   },
   "outputs": [
    {
     "data": {
      "image/png": "[encoded data removed]",
      "text/plain": [
       "<Figure size 432x288 with 1 Axes>"
      ]
     },
     "metadata": {
      "needs_background": "light"
     },
     "output_type": "display_data"
    }
   ],
   "source": [
    "chess_board = (np.arange(64).reshape(8, 8) + (np.arange(64).reshape(8, 8) % 16 >= 8)) % 2\n",
    "plt.pcolor(chess_board)\n",
    "plt.show()"
   ]
  },
  {
   "cell_type": "code",
   "execution_count": 3,
   "id": "90717a8a-dc38-4967-a1ae-48f117b0c800",
   "metadata": {
    "collapsed": false
   },
   "outputs": [
    {
     "name": "stdout",
     "output_type": "stream",
     "text": [
      "[[ 0  1  2  3]\n",
      " [10 11 12 13]\n",
      " [20 21 22 23]\n",
      " [30 31 32 33]]\n"
     ]
    }
   ],
   "source": [
    "a = np.arange(4)\n",
    "b = 10 * a\n",
    "b.shape = (4, 1)\n",
    "print(a + b)"
   ]
  },
  {
   "cell_type": "code",
   "execution_count": 4,
   "id": "8d4df565-e5fe-498f-8060-bbd7004524e8",
   "metadata": {
    "collapsed": false
   },
   "outputs": [
    {
     "name": "stdout",
     "output_type": "stream",
     "text": [
      "[ 3. -2.]\n"
     ]
    }
   ],
   "source": [
    "a = np.array([[12, 16],\n",
    "              [8, 12]])\n",
    "b = np.array([4, 0])\n",
    "print(np.linalg.solve(a, b))\n"
   ]
  },
  {
   "cell_type": "code",
   "execution_count": 5,
   "id": "b749540a-bcfe-4fb4-84dc-2d8769bc930e",
   "metadata": {
    "collapsed": false
   },
   "outputs": [
    {
     "name": "stdout",
     "output_type": "stream",
     "text": [
      "(array([-20.,  50.]), array([[-0.70710678, -0.70710678],\n",
      "       [-0.70710678,  0.70710678]]))\n"
     ]
    }
   ],
   "source": [
    "sigma = np.array([[15, -35],\n",
    "                  [-35, 15]])\n",
    "print(np.linalg.eigh(sigma))\n"
   ]
  },
  {
   "cell_type": "code",
   "execution_count": 6,
   "id": "325a98ba-9145-4936-b406-a27f0ad440a6",
   "metadata": {
    "collapsed": false
   },
   "outputs": [
    {
     "name": "stdout",
     "output_type": "stream",
     "text": [
      "[1.02986653]\n"
     ]
    },
    {
     "data": {
      "image/png": "[encoded data removed]",
      "text/plain": [
       "<Figure size 432x288 with 1 Axes>"
      ]
     },
     "metadata": {
      "needs_background": "light"
     },
     "output_type": "display_data"
    }
   ],
   "source": [
    "def pendulum(x):\n",
    "    return x - 2 * np.cos(x)\n",
    "\n",
    "x = np.linspace(-3, 3)\n",
    "plt.plot(x, pendulum(x))\n",
    "\n",
    "solution = root(pendulum, x0=-1.0).x\n",
    "print(solution)\n"
   ]
  }
 ],
 "metadata": {
  "kernelspec": {
   "argv": [
    "/usr/bin/python3",
    "-m",
    "ipykernel_launcher",
    "-f",
    "{connection_file}"
   ],
   "display_name": "Python 3 (ipykernel)",
   "env": null,
   "interrupt_mode": "signal",
   "language": "python",
   "metadata": {
    "debugger": false
   },
   "name": "python3"
  },
  "name": "LM1.ipynb"
 },
 "nbformat": 4,
 "nbformat_minor": 5
}
